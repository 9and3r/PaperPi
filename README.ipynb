{
 "cells": [
  {
   "cell_type": "markdown",
   "id": "4ae9633c",
   "metadata": {},
   "source": [
    "# TO DO\n",
    "\n",
    "## Main Program\n",
    "* [ ] update plugin configuration on demand without restart\n",
    "* [ ] \n",
    "\n",
    "## Installer\n",
    "What libraries are needed on Buster, Bullseye, 32 and 64 bit?\n",
    "\n",
    "* [ ] checks for necessary local libraries\n",
    "* [ ] installer builds pyenv\n",
    "    * [ ] creates directory\n",
    "    * [ ] copies in files\n",
    "    * [ ] adds pipenv\n",
    "    * [ ] installs core modules\n",
    "    * [ ] installs plugin modules\n",
    "* [ ] installs systemd daemon\n",
    "* [ ] installs configuration files\n",
    "\n",
    "\n",
    "## Plugins\n",
    "* [ ] create system for documenting and installing plugin module dependencies\n",
    "\n",
    "## Documentation\n",
    "* [ ] build documentation on demand\n",
    "    * [ ] create new images on demand\n",
    "    * [ ] create documentation for _help()_\n",
    "    "
   ]
  }
 ],
 "metadata": {
  "kernelspec": {
   "display_name": "paperpi-fN25Eeb-",
   "language": "python",
   "name": "paperpi-fn25eeb-"
  },
  "language_info": {
   "codemirror_mode": {
    "name": "ipython",
    "version": 3
   },
   "file_extension": ".py",
   "mimetype": "text/x-python",
   "name": "python",
   "nbconvert_exporter": "python",
   "pygments_lexer": "ipython3",
   "version": "3.9.2"
  }
 },
 "nbformat": 4,
 "nbformat_minor": 5
}
