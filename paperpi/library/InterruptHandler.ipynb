{
 "cells": [
  {
   "cell_type": "code",
   "execution_count": 1,
   "metadata": {},
   "outputs": [],
   "source": [
    "import logging\n",
    "import signal"
   ]
  },
  {
   "cell_type": "code",
   "execution_count": 2,
   "metadata": {},
   "outputs": [],
   "source": [
    "logger = logging.getLogger(__name__)"
   ]
  },
  {
   "cell_type": "code",
   "execution_count": 3,
   "metadata": {},
   "outputs": [],
   "source": [
    "class InterruptHandler:\n",
    "    kill_now = False\n",
    "    kill_signal = None\n",
    "    kill_signal_name = None\n",
    "    \n",
    "    def __init__(self):\n",
    "        '''class for catching and handling SIGINT and SIGTERM signals\n",
    "        \n",
    "        Based heavily on https://stackoverflow.com/a/31464349/5530152\n",
    "\n",
    "        Attributes:\n",
    "            kill_now(bool): False until SIGINT or SIGTERM intercepted\n",
    "            kill_signal(int): integer value of signal intercepted\n",
    "            kill_signal_name(str): string equivelent of signal'''\n",
    "        \n",
    "        signal.signal(signal.SIGINT, self.exit_gracefully)\n",
    "        signal.signal(signal.SIGTERM, self.exit_gracefully)\n",
    "        \n",
    "    def exit_gracefully(self, signum, *args):\n",
    "        '''Exit handler'''\n",
    "        self.kill_now = True\n",
    "        self.kill_signal = signum\n",
    "        self.kill_signal_name = signal.Signals(signum).name                "
   ]
  },
  {
   "cell_type": "code",
   "execution_count": 5,
   "metadata": {},
   "outputs": [
    {
     "name": "stdout",
     "output_type": "stream",
     "text": [
      "[NbConvertApp] Converting notebook InterruptHandler.ipynb to python\n",
      "[NbConvertApp] Writing 978 bytes to InterruptHandler.py\n"
     ]
    }
   ],
   "source": [
    "!jupyter-nbconvert --to python --template python_clean InterruptHandler.ipynb"
   ]
  },
  {
   "cell_type": "code",
   "execution_count": null,
   "metadata": {},
   "outputs": [],
   "source": []
  }
 ],
 "metadata": {
  "kernelspec": {
   "display_name": "epd_display-ApAYs8Kw",
   "language": "python",
   "name": "epd_display-apays8kw"
  },
  "language_info": {
   "codemirror_mode": {
    "name": "ipython",
    "version": 3
   },
   "file_extension": ".py",
   "mimetype": "text/x-python",
   "name": "python",
   "nbconvert_exporter": "python",
   "pygments_lexer": "ipython3",
   "version": "3.9.2"
  }
 },
 "nbformat": 4,
 "nbformat_minor": 4
}
